{
 "cells": [
  {
   "cell_type": "code",
   "execution_count": 62,
   "metadata": {},
   "outputs": [],
   "source": [
    "import numpy as np\n",
    "import datetime as dt\n",
    "import json\n",
    "import time\n",
    "import pandas as pd\n",
    "import csv\n",
    "import pprint\n",
    "import re\n",
    "import sys\n",
    "import seaborn as sns\n",
    "from functools import reduce\n",
    "import matplotlib.pyplot as plt\n",
    "# pd.options.display.max_rows = 9000\n",
    "# import warnings\n",
    "# warnings.filterwarnings('ignore') \n",
    "# %load_ext autoreload\n",
    "# %autoreload 2"
   ]
  },
  {
   "cell_type": "code",
   "execution_count": 4,
   "metadata": {},
   "outputs": [],
   "source": [
    "tweets = pd.read_csv('tweets.csv')"
   ]
  },
  {
   "cell_type": "code",
   "execution_count": 39,
   "metadata": {},
   "outputs": [],
   "source": [
    "def find_hashtags(string:str)->list:\n",
    "    search_regex = \"#\\w+\"\n",
    "    found_items = re.findall(search_regex, string)\n",
    "    found_items = set(found_items)\n",
    "    return found_items"
   ]
  },
  {
   "cell_type": "code",
   "execution_count": 58,
   "metadata": {},
   "outputs": [],
   "source": [
    "def get_union(s_prev:set, s:set)->set:\n",
    "    return s_prev.union(s)\n",
    "\n",
    "all_hashtags = reduce(get_union, tweets['tweets'].apply(find_hashtags).values)"
   ]
  },
  {
   "cell_type": "code",
   "execution_count": 67,
   "metadata": {},
   "outputs": [
    {
     "data": {
      "text/plain": [
       "3428.0"
      ]
     },
     "execution_count": 67,
     "metadata": {},
     "output_type": "execute_result"
    }
   ],
   "source": [
    "len(all_hashtags)/2"
   ]
  },
  {
   "cell_type": "code",
   "execution_count": 70,
   "metadata": {},
   "outputs": [],
   "source": [
    "with open('first_half_hashtags.csv', 'w+') as f:\n",
    "    write = csv.writer(f)\n",
    "    for ht in np.array(list(all_hashtags)[:3428]).reshape(-1,1):\n",
    "        write.writerow(ht)"
   ]
  },
  {
   "cell_type": "code",
   "execution_count": 64,
   "metadata": {},
   "outputs": [],
   "source": [
    "hashtag_directionality = dict()\n",
    "# proTrump = 1\n",
    "# neutral = 0\n",
    "# proBiden = -1"
   ]
  },
  {
   "cell_type": "code",
   "execution_count": 74,
   "metadata": {},
   "outputs": [],
   "source": [
    "first_half_hashtags = set()\n",
    "\n",
    "with open('first_half_hashtags.csv', 'r') as f:\n",
    "    lines = f.readlines()\n",
    "    for l in lines:\n",
    "        l = l.strip('\\n')\n",
    "        first_half_hashtags.add(l)"
   ]
  },
  {
   "cell_type": "code",
   "execution_count": 76,
   "metadata": {},
   "outputs": [],
   "source": [
    "second_half_hashtags = all_hashtags - first_half_hashtags"
   ]
  },
  {
   "cell_type": "code",
   "execution_count": 78,
   "metadata": {},
   "outputs": [],
   "source": [
    "second_half_hashtags_annotated = dict()"
   ]
  },
  {
   "cell_type": "code",
   "execution_count": 79,
   "metadata": {},
   "outputs": [],
   "source": [
    "for ht in second_half_hashtags:\n",
    "    annotation = input(\"{}:\".format(ht))\n",
    "    second_half_hashtags_annotated[ht] = annotation"
   ]
  },
  {
   "cell_type": "code",
   "execution_count": 83,
   "metadata": {},
   "outputs": [],
   "source": [
    "with open('second_half_hashtags_annotated.json', 'w+') as f:\n",
    "    json_string = json.dumps(second_half_hashtags_annotated)\n",
    "    f.write(json_string)"
   ]
  },
  {
   "cell_type": "code",
   "execution_count": null,
   "metadata": {},
   "outputs": [],
   "source": []
  }
 ],
 "metadata": {
  "kernelspec": {
   "display_name": "Python 3",
   "language": "python",
   "name": "python3"
  },
  "language_info": {
   "codemirror_mode": {
    "name": "ipython",
    "version": 3
   },
   "file_extension": ".py",
   "mimetype": "text/x-python",
   "name": "python",
   "nbconvert_exporter": "python",
   "pygments_lexer": "ipython3",
   "version": "3.6.4"
  }
 },
 "nbformat": 4,
 "nbformat_minor": 2
}
