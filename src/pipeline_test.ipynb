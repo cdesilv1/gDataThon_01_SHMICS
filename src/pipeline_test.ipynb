{
 "cells": [
  {
   "cell_type": "code",
   "execution_count": 3,
   "metadata": {},
   "outputs": [
    {
     "name": "stdout",
     "output_type": "stream",
     "text": [
      "The autoreload extension is already loaded. To reload it, use:\n",
      "  %reload_ext autoreload\n"
     ]
    }
   ],
   "source": [
    "import pandas as pd\n",
    "import numpy as np\n",
    "import matplotlib.pyplot as plt\n",
    "\n",
    "%load_ext autoreload\n",
    "%autoreload 2"
   ]
  },
  {
   "cell_type": "code",
   "execution_count": 4,
   "metadata": {},
   "outputs": [],
   "source": [
    "from pipeline_to_pandas import pipelineToPandas\n",
    "from TextCleaner import TextCleaner"
   ]
  },
  {
   "cell_type": "code",
   "execution_count": 5,
   "metadata": {},
   "outputs": [
    {
     "name": "stderr",
     "output_type": "stream",
     "text": [
      "/home/conslag/Documents/ds_projects/gDataThon_01_SHMICS/src/pipeline_to_pandas.py:78: GuessedAtParserWarning: No parser was explicitly specified, so I'm using the best available HTML parser for this system (\"lxml\"). This usually isn't a problem, but if you run this code on another system, or in a different virtual environment, it may use a different parser and behave differently.\n",
      "\n",
      "The code that caused this warning is on line 78 of the file /home/conslag/Documents/ds_projects/gDataThon_01_SHMICS/src/pipeline_to_pandas.py. To get rid of this warning, pass the additional argument 'features=\"lxml\"' to the BeautifulSoup constructor.\n",
      "\n",
      "  a_tag = BeautifulSoup(tweet_text).find('a')\n"
     ]
    }
   ],
   "source": [
    "pipeline = pipelineToPandas()\n",
    "pipeline.load_json('concatenated_abridged.jsonl')\n",
    "pipeline.clean_df()"
   ]
  },
  {
   "cell_type": "code",
   "execution_count": 6,
   "metadata": {},
   "outputs": [],
   "source": [
    "df = pipeline.df_all"
   ]
  },
  {
   "cell_type": "code",
   "execution_count": 7,
   "metadata": {},
   "outputs": [
    {
     "name": "stdout",
     "output_type": "stream",
     "text": [
      "<class 'pandas.core.frame.DataFrame'>\n",
      "RangeIndex: 140337 entries, 0 to 140336\n",
      "Data columns (total 33 columns):\n",
      " #   Column                     Non-Null Count   Dtype              \n",
      "---  ------                     --------------   -----              \n",
      " 0   created_at                 140337 non-null  datetime64[ns, UTC]\n",
      " 1   id                         140337 non-null  int64              \n",
      " 2   id_str                     140337 non-null  int64              \n",
      " 3   full_text                  140337 non-null  object             \n",
      " 4   truncated                  140337 non-null  bool               \n",
      " 5   entities                   140337 non-null  object             \n",
      " 6   in_reply_to_status_id      19112 non-null   float64            \n",
      " 7   in_reply_to_status_id_str  19112 non-null   float64            \n",
      " 8   in_reply_to_user_id        20181 non-null   float64            \n",
      " 9   in_reply_to_user_id_str    20181 non-null   float64            \n",
      " 10  in_reply_to_screen_name    20181 non-null   object             \n",
      " 11  user                       140337 non-null  object             \n",
      " 12  geo                        2 non-null       object             \n",
      " 13  coordinates                2 non-null       object             \n",
      " 14  place                      778 non-null     object             \n",
      " 15  contributors               0 non-null       float64            \n",
      " 16  is_quote_status            140337 non-null  bool               \n",
      " 17  quoted_status_id           24453 non-null   float64            \n",
      " 18  quoted_status_id_str       24453 non-null   float64            \n",
      " 19  quoted_status_permalink    24452 non-null   object             \n",
      " 20  quoted_status              7572 non-null    object             \n",
      " 21  retweet_count              140337 non-null  int64              \n",
      " 22  favorite_count             140337 non-null  int64              \n",
      " 23  favorited                  140337 non-null  bool               \n",
      " 24  retweeted                  140337 non-null  bool               \n",
      " 25  possibly_sensitive         32333 non-null   float64            \n",
      " 26  lang                       140337 non-null  object             \n",
      " 27  retweeted_status           106900 non-null  object             \n",
      " 28  extended_entities          14628 non-null   object             \n",
      " 29  withheld_in_countries      36 non-null      object             \n",
      " 30  tweet_text_wo_mentions     140337 non-null  object             \n",
      " 31  source_text                140337 non-null  object             \n",
      " 32  tweet_date_created         140337 non-null  datetime64[ns, UTC]\n",
      "dtypes: bool(4), datetime64[ns, UTC](2), float64(8), int64(4), object(15)\n",
      "memory usage: 31.6+ MB\n"
     ]
    }
   ],
   "source": [
    "df.info()"
   ]
  },
  {
   "cell_type": "code",
   "execution_count": 8,
   "metadata": {},
   "outputs": [
    {
     "data": {
      "text/plain": [
       "'Biden a professional debater??  Hardly!! More like a professional liar! https://t.co/cQuxzexXYt'"
      ]
     },
     "execution_count": 8,
     "metadata": {},
     "output_type": "execute_result"
    }
   ],
   "source": [
    "test = df['full_text'][0]\n",
    "test"
   ]
  },
  {
   "cell_type": "code",
   "execution_count": 9,
   "metadata": {},
   "outputs": [
    {
     "data": {
      "text/plain": [
       "'Biden a professional debater??  Hardly!! More like a professional liar! https://t.co/cQuxzexXYt'"
      ]
     },
     "execution_count": 9,
     "metadata": {},
     "output_type": "execute_result"
    }
   ],
   "source": [
    "test2 = df['tweet_text_wo_mentions'][0]\n",
    "test2"
   ]
  },
  {
   "cell_type": "code",
   "execution_count": 12,
   "metadata": {},
   "outputs": [],
   "source": [
    "cleaner = TextCleaner()\n",
    "df['clean_tweets'] = df['full_text'].apply(lambda x: cleaner.clean_tweets(x, 5))"
   ]
  },
  {
   "cell_type": "code",
   "execution_count": 14,
   "metadata": {},
   "outputs": [
    {
     "data": {
      "text/plain": [
       "'rt kamalaharris at 9pm et tonight joebiden will face off against donald trump in their first of three debates i know joe is going to b'"
      ]
     },
     "execution_count": 14,
     "metadata": {},
     "output_type": "execute_result"
    }
   ],
   "source": [
    "df['clean_tweets'][5]"
   ]
  },
  {
   "cell_type": "code",
   "execution_count": null,
   "metadata": {},
   "outputs": [],
   "source": []
  }
 ],
 "metadata": {
  "kernelspec": {
   "display_name": "Python 3",
   "language": "python",
   "name": "python3"
  },
  "language_info": {
   "codemirror_mode": {
    "name": "ipython",
    "version": 3
   },
   "file_extension": ".py",
   "mimetype": "text/x-python",
   "name": "python",
   "nbconvert_exporter": "python",
   "pygments_lexer": "ipython3",
   "version": "3.7.7"
  }
 },
 "nbformat": 4,
 "nbformat_minor": 4
}
