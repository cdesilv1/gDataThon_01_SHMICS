{
 "cells": [
  {
   "cell_type": "code",
   "execution_count": 1,
   "metadata": {},
   "outputs": [],
   "source": [
    "import pandas as pd\n",
    "import numpy as np\n",
    "import matplotlib.pyplot as plt\n",
    "\n",
    "%load_ext autoreload\n",
    "%autoreload 2"
   ]
  },
  {
   "cell_type": "code",
   "execution_count": 18,
   "metadata": {},
   "outputs": [],
   "source": [
    "from pipeline_to_pandas import pipelineToPandas\n",
    "from TextCleaner import TextCleaner"
   ]
  },
  {
   "cell_type": "code",
   "execution_count": 3,
   "metadata": {},
   "outputs": [
    {
     "name": "stderr",
     "output_type": "stream",
     "text": [
      "/home/conslag/Documents/ds_projects/gDataThon_01_SHMICS/src/pipeline_to_pandas.py:63: GuessedAtParserWarning: No parser was explicitly specified, so I'm using the best available HTML parser for this system (\"lxml\"). This usually isn't a problem, but if you run this code on another system, or in a different virtual environment, it may use a different parser and behave differently.\n",
      "\n",
      "The code that caused this warning is on line 63 of the file /home/conslag/Documents/ds_projects/gDataThon_01_SHMICS/src/pipeline_to_pandas.py. To get rid of this warning, pass the additional argument 'features=\"lxml\"' to the BeautifulSoup constructor.\n",
      "\n",
      "  a_tag = BeautifulSoup(tweet_text).find('a')\n"
     ]
    }
   ],
   "source": [
    "pipeline = pipelineToPandas()\n",
    "pipeline.load_json('concatenated_abridged.jsonl')\n",
    "pipeline.clean_df()"
   ]
  },
  {
   "cell_type": "code",
   "execution_count": 4,
   "metadata": {},
   "outputs": [],
   "source": [
    "df = pipeline.df_all"
   ]
  },
  {
   "cell_type": "code",
   "execution_count": 5,
   "metadata": {},
   "outputs": [
    {
     "name": "stdout",
     "output_type": "stream",
     "text": [
      "<class 'pandas.core.frame.DataFrame'>\n",
      "RangeIndex: 124030 entries, 0 to 124029\n",
      "Data columns (total 33 columns):\n",
      " #   Column                     Non-Null Count   Dtype              \n",
      "---  ------                     --------------   -----              \n",
      " 0   created_at                 124030 non-null  datetime64[ns, UTC]\n",
      " 1   id                         124030 non-null  int64              \n",
      " 2   id_str                     124030 non-null  int64              \n",
      " 3   full_text                  124030 non-null  object             \n",
      " 4   truncated                  124030 non-null  bool               \n",
      " 5   entities                   124030 non-null  object             \n",
      " 6   in_reply_to_status_id      16024 non-null   float64            \n",
      " 7   in_reply_to_status_id_str  16024 non-null   float64            \n",
      " 8   in_reply_to_user_id        16799 non-null   float64            \n",
      " 9   in_reply_to_user_id_str    16799 non-null   float64            \n",
      " 10  in_reply_to_screen_name    16799 non-null   object             \n",
      " 11  user                       124030 non-null  object             \n",
      " 12  geo                        2 non-null       object             \n",
      " 13  coordinates                2 non-null       object             \n",
      " 14  place                      653 non-null     object             \n",
      " 15  contributors               0 non-null       float64            \n",
      " 16  is_quote_status            124030 non-null  bool               \n",
      " 17  quoted_status_id           20617 non-null   float64            \n",
      " 18  quoted_status_id_str       20617 non-null   float64            \n",
      " 19  quoted_status_permalink    20617 non-null   object             \n",
      " 20  quoted_status              5555 non-null    object             \n",
      " 21  retweet_count              124030 non-null  int64              \n",
      " 22  favorite_count             124030 non-null  int64              \n",
      " 23  favorited                  124030 non-null  bool               \n",
      " 24  retweeted                  124030 non-null  bool               \n",
      " 25  possibly_sensitive         22189 non-null   float64            \n",
      " 26  lang                       124030 non-null  object             \n",
      " 27  retweeted_status           96488 non-null   object             \n",
      " 28  extended_entities          8066 non-null    object             \n",
      " 29  withheld_in_countries      35 non-null      object             \n",
      " 30  tweet_text_wo_mentions     124030 non-null  object             \n",
      " 31  source_text                124030 non-null  object             \n",
      " 32  tweet_date_created         124030 non-null  datetime64[ns, UTC]\n",
      "dtypes: bool(4), datetime64[ns, UTC](2), float64(8), int64(4), object(15)\n",
      "memory usage: 27.9+ MB\n"
     ]
    }
   ],
   "source": [
    "df.info()"
   ]
  },
  {
   "cell_type": "code",
   "execution_count": 6,
   "metadata": {},
   "outputs": [
    {
     "data": {
      "text/plain": [
       "'Biden a professional debater??  Hardly!! More like a professional liar! https://t.co/cQuxzexXYt'"
      ]
     },
     "execution_count": 6,
     "metadata": {},
     "output_type": "execute_result"
    }
   ],
   "source": [
    "test = df['full_text'][0]\n",
    "test"
   ]
  },
  {
   "cell_type": "code",
   "execution_count": 7,
   "metadata": {},
   "outputs": [
    {
     "data": {
      "text/plain": [
       "'RT @meiselasb: This takedown of Rudy and Trump is currently trending number 3 in the USA with the hashtag:\\n#ByeRudy \\n\\nhttps://t.co/huXdqRLP…'"
      ]
     },
     "execution_count": 7,
     "metadata": {},
     "output_type": "execute_result"
    }
   ],
   "source": [
    "test2 = df['tweet_text_wo_mentions'][25]\n",
    "test2"
   ]
  },
  {
   "cell_type": "code",
   "execution_count": 23,
   "metadata": {},
   "outputs": [],
   "source": [
    "cleaner = TextCleaner()\n",
    "df['clean_tweets'] = df['full_text'].apply(lambda x: cleaner.clean_tweets(x, 5))"
   ]
  },
  {
   "cell_type": "code",
   "execution_count": 24,
   "metadata": {},
   "outputs": [
    {
     "data": {
      "text/plain": [
       "0    biden a professional debater hardly more like ...\n",
       "1    how can biden stand a chance against trump in ...\n",
       "2    very reminiscent of pre 2018 election raids th...\n",
       "3    why was corrupt biden s son being paid million...\n",
       "4    at 9pm et tonight will face off against donald...\n",
       "5    if joe biden can not debate donald trump for 9...\n",
       "6                                            thank you\n",
       "7    let s get this straight hillary manufactured t...\n",
       "8    you may get both if you do not vote right my p...\n",
       "9    breaking just declassified according to his ow...\n",
       "Name: clean_tweets, dtype: object"
      ]
     },
     "execution_count": 24,
     "metadata": {},
     "output_type": "execute_result"
    }
   ],
   "source": [
    "df['clean_tweets'][:10]"
   ]
  },
  {
   "cell_type": "code",
   "execution_count": 25,
   "metadata": {},
   "outputs": [
    {
     "data": {
      "text/plain": [
       "'this is a really big deal but 90 of the media will bury the hell of this take 3 mins and read it'"
      ]
     },
     "execution_count": 25,
     "metadata": {},
     "output_type": "execute_result"
    }
   ],
   "source": [
    "df['clean_tweets'][900]"
   ]
  },
  {
   "cell_type": "code",
   "execution_count": 13,
   "metadata": {},
   "outputs": [],
   "source": [
    "import re"
   ]
  },
  {
   "cell_type": "code",
   "execution_count": 56,
   "metadata": {},
   "outputs": [
    {
     "data": {
      "text/plain": [
       "'RT : This takedown of Rudy and Trump is currently trending number 3 in the USA with the hashtag:  https://t.co/huXdqRLP…'"
      ]
     },
     "execution_count": 56,
     "metadata": {},
     "output_type": "execute_result"
    }
   ],
   "source": [
    "' '.join([re.sub(r'^[@#]\\w+','',word) for word in str(test2).split()])"
   ]
  },
  {
   "cell_type": "code",
   "execution_count": 55,
   "metadata": {},
   "outputs": [
    {
     "data": {
      "text/plain": [
       "'RT @meiselasb: This takedown of Rudy and Trump is currently trending number 3 in the USA with the hashtag:\\n#ByeRudy \\n\\nhttps://t.co/huXdqRLP…'"
      ]
     },
     "execution_count": 55,
     "metadata": {},
     "output_type": "execute_result"
    }
   ],
   "source": [
    "re.sub(r'^[@#]\\w+$',' ', test2)"
   ]
  },
  {
   "cell_type": "code",
   "execution_count": 26,
   "metadata": {},
   "outputs": [
    {
     "name": "stdout",
     "output_type": "stream",
     "text": [
      "<class 'pandas.core.frame.DataFrame'>\n",
      "RangeIndex: 124030 entries, 0 to 124029\n",
      "Data columns (total 34 columns):\n",
      " #   Column                     Non-Null Count   Dtype              \n",
      "---  ------                     --------------   -----              \n",
      " 0   created_at                 124030 non-null  datetime64[ns, UTC]\n",
      " 1   id                         124030 non-null  int64              \n",
      " 2   id_str                     124030 non-null  int64              \n",
      " 3   full_text                  124030 non-null  object             \n",
      " 4   truncated                  124030 non-null  bool               \n",
      " 5   entities                   124030 non-null  object             \n",
      " 6   in_reply_to_status_id      16024 non-null   float64            \n",
      " 7   in_reply_to_status_id_str  16024 non-null   float64            \n",
      " 8   in_reply_to_user_id        16799 non-null   float64            \n",
      " 9   in_reply_to_user_id_str    16799 non-null   float64            \n",
      " 10  in_reply_to_screen_name    16799 non-null   object             \n",
      " 11  user                       124030 non-null  object             \n",
      " 12  geo                        2 non-null       object             \n",
      " 13  coordinates                2 non-null       object             \n",
      " 14  place                      653 non-null     object             \n",
      " 15  contributors               0 non-null       float64            \n",
      " 16  is_quote_status            124030 non-null  bool               \n",
      " 17  quoted_status_id           20617 non-null   float64            \n",
      " 18  quoted_status_id_str       20617 non-null   float64            \n",
      " 19  quoted_status_permalink    20617 non-null   object             \n",
      " 20  quoted_status              5555 non-null    object             \n",
      " 21  retweet_count              124030 non-null  int64              \n",
      " 22  favorite_count             124030 non-null  int64              \n",
      " 23  favorited                  124030 non-null  bool               \n",
      " 24  retweeted                  124030 non-null  bool               \n",
      " 25  possibly_sensitive         22189 non-null   float64            \n",
      " 26  lang                       124030 non-null  object             \n",
      " 27  retweeted_status           96488 non-null   object             \n",
      " 28  extended_entities          8066 non-null    object             \n",
      " 29  withheld_in_countries      35 non-null      object             \n",
      " 30  tweet_text_wo_mentions     124030 non-null  object             \n",
      " 31  source_text                124030 non-null  object             \n",
      " 32  tweet_date_created         124030 non-null  datetime64[ns, UTC]\n",
      " 33  clean_tweets               124030 non-null  object             \n",
      "dtypes: bool(4), datetime64[ns, UTC](2), float64(8), int64(4), object(16)\n",
      "memory usage: 28.9+ MB\n"
     ]
    }
   ],
   "source": [
    "df.info()"
   ]
  },
  {
   "cell_type": "code",
   "execution_count": 32,
   "metadata": {},
   "outputs": [
    {
     "data": {
      "text/plain": [
       "0         {'hashtags': [], 'symbols': [], 'user_mentions...\n",
       "1         {'hashtags': [{'text': 'VarneyCo', 'indices': ...\n",
       "2         {'hashtags': [], 'symbols': [], 'user_mentions...\n",
       "3         {'hashtags': [], 'symbols': [], 'user_mentions...\n",
       "4         {'hashtags': [], 'symbols': [], 'user_mentions...\n",
       "                                ...                        \n",
       "124025    {'hashtags': [], 'symbols': [], 'user_mentions...\n",
       "124026    {'hashtags': [], 'symbols': [], 'user_mentions...\n",
       "124027    {'hashtags': [], 'symbols': [], 'user_mentions...\n",
       "124028    {'hashtags': [], 'symbols': [], 'user_mentions...\n",
       "124029    {'hashtags': [], 'symbols': [], 'user_mentions...\n",
       "Name: entities, Length: 124030, dtype: object"
      ]
     },
     "execution_count": 32,
     "metadata": {},
     "output_type": "execute_result"
    }
   ],
   "source": [
    "df['entities']"
   ]
  },
  {
   "cell_type": "code",
   "execution_count": null,
   "metadata": {},
   "outputs": [],
   "source": []
  }
 ],
 "metadata": {
  "kernelspec": {
   "display_name": "Python 3",
   "language": "python",
   "name": "python3"
  },
  "language_info": {
   "codemirror_mode": {
    "name": "ipython",
    "version": 3
   },
   "file_extension": ".py",
   "mimetype": "text/x-python",
   "name": "python",
   "nbconvert_exporter": "python",
   "pygments_lexer": "ipython3",
   "version": "3.7.7"
  }
 },
 "nbformat": 4,
 "nbformat_minor": 4
}
