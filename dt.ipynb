{
  "nbformat": 4,
  "nbformat_minor": 0,
  "metadata": {
    "language_info": {
      "codemirror_mode": {
        "name": "ipython",
        "version": 3
      },
      "file_extension": ".py",
      "mimetype": "text/x-python",
      "name": "python",
      "nbconvert_exporter": "python",
      "pygments_lexer": "ipython3",
      "version": "3.8.0-final"
    },
    "orig_nbformat": 2,
    "kernelspec": {
      "name": "Python 3.8.0 64-bit",
      "display_name": "Python 3.8.0 64-bit",
      "metadata": {
        "interpreter": {
          "hash": "9c2441ec92c423bccdc265a9f8eaefe1e886e230cb3c9107344ff4cb68d32709"
        }
      }
    },
    "colab": {
      "name": "dt.ipynb",
      "provenance": []
    }
  },
  "cells": [
    {
      "cell_type": "code",
      "metadata": {
        "id": "Lt2M6z9B0PCV"
      },
      "source": [
        "import pandas as pd\n",
        "import numpy as np\n",
        "\n",
        "df=pd.read_json('C:/Users/Trevor/Downloads/concatenated_abridged.jsonl.gz',compression='gzip',lines=True)"
      ],
      "execution_count": null,
      "outputs": []
    },
    {
      "cell_type": "code",
      "metadata": {
        "id": "RZe8px530PCa",
        "outputId": "2e632562-c298-498b-d246-dde98ad291ff"
      },
      "source": [
        "from vaderSentiment.vaderSentiment import SentimentIntensityAnalyzer\n",
        "analyser = SentimentIntensityAnalyzer()\n",
        "analyser.polarity_scores(\"I am getting bored in the quarantine.\")"
      ],
      "execution_count": null,
      "outputs": [
        {
          "output_type": "execute_result",
          "data": {
            "text/plain": [
              "{'neg': 0.259, 'neu': 0.741, 'pos': 0.0, 'compound': -0.2732}"
            ]
          },
          "metadata": {
            "tags": []
          },
          "execution_count": 3
        }
      ]
    },
    {
      "cell_type": "code",
      "metadata": {
        "id": "tRzbpTNy0PCd"
      },
      "source": [
        "df['full_text'].head(1000).to_csv('tweets2.csv',index=False)"
      ],
      "execution_count": null,
      "outputs": []
    },
    {
      "cell_type": "code",
      "metadata": {
        "id": "qz0Ns5_N0PCi",
        "outputId": "b9fa2bf9-d9d4-47a1-bb2d-f41b9324acf3"
      },
      "source": [
        "df['full_text']"
      ],
      "execution_count": null,
      "outputs": [
        {
          "output_type": "execute_result",
          "data": {
            "text/plain": [
              "0         Biden a professional debater??  Hardly!! More ...\n",
              "1         RT @DarDar458: #PresidentialDebate #Debates202...\n",
              "2         How can Biden stand a chance against Trump in ...\n",
              "3         RT @abbydphillip: Very reminiscent of pre-2018...\n",
              "4         RT @RudyGiuliani: Why was Corrupt Biden’s son ...\n",
              "                                ...                        \n",
              "140332         RT @realDonaldTrump: https://t.co/B4H105KVSs\n",
              "140333    @ScottAdamsSays Hi, my son died, please vote J...\n",
              "140334    @FoxNews can stick it where the sun doesn't sh...\n",
              "140335    RT @aaronjcarpenter: I can’t stress this enoug...\n",
              "140336    RT @EliseStefanik: Doesn’t get any better than...\n",
              "Name: full_text, Length: 140337, dtype: object"
            ]
          },
          "metadata": {
            "tags": []
          },
          "execution_count": 7
        }
      ]
    },
    {
      "cell_type": "code",
      "metadata": {
        "id": "byOnaY5M0PCl",
        "outputId": "8daa541a-746e-48bd-8fbc-d7c474d8762b"
      },
      "source": [
        "df.iloc[8]"
      ],
      "execution_count": null,
      "outputs": [
        {
          "output_type": "execute_result",
          "data": {
            "text/plain": [
              "created_at                                           2020-09-30 00:00:11+00:00\n",
              "id                                                         1311093449135972353\n",
              "id_str                                                     1311093449135972352\n",
              "full_text                    RT @stillgray: Let's get this straight: Hillar...\n",
              "truncated                                                                False\n",
              "display_text_range                                                    [0, 139]\n",
              "entities                     {'hashtags': [], 'symbols': [], 'user_mentions...\n",
              "source                       <a href=\"https://mobile.twitter.com\" rel=\"nofo...\n",
              "in_reply_to_status_id                                                      NaN\n",
              "in_reply_to_status_id_str                                                  NaN\n",
              "in_reply_to_user_id                                                        NaN\n",
              "in_reply_to_user_id_str                                                    NaN\n",
              "in_reply_to_screen_name                                                   None\n",
              "user                         {'id': 805457854555705344, 'id_str': '80545785...\n",
              "geo                                                                       None\n",
              "coordinates                                                               None\n",
              "place                                                                     None\n",
              "contributors                                                               NaN\n",
              "is_quote_status                                                          False\n",
              "quoted_status_id                                                           NaN\n",
              "quoted_status_id_str                                                       NaN\n",
              "quoted_status_permalink                                                    NaN\n",
              "quoted_status                                                              NaN\n",
              "retweet_count                                                             5068\n",
              "favorite_count                                                               0\n",
              "favorited                                                                False\n",
              "retweeted                                                                False\n",
              "possibly_sensitive                                                         NaN\n",
              "lang                                                                        en\n",
              "retweeted_status             {'created_at': 'Tue Sep 29 20:47:11 +0000 2020...\n",
              "extended_entities                                                          NaN\n",
              "withheld_in_countries                                                      NaN\n",
              "Name: 8, dtype: object"
            ]
          },
          "metadata": {
            "tags": []
          },
          "execution_count": 36
        }
      ]
    },
    {
      "cell_type": "code",
      "metadata": {
        "id": "AN1TguJQ0PCo",
        "outputId": "c91e811f-1b8c-46ea-932d-1979968f49ec"
      },
      "source": [
        "df[df['truncated']==True]"
      ],
      "execution_count": null,
      "outputs": [
        {
          "output_type": "execute_result",
          "data": {
            "text/plain": [
              "Empty DataFrame\n",
              "Columns: [created_at, id, id_str, full_text, truncated, display_text_range, entities, source, in_reply_to_status_id, in_reply_to_status_id_str, in_reply_to_user_id, in_reply_to_user_id_str, in_reply_to_screen_name, user, geo, coordinates, place, contributors, is_quote_status, quoted_status_id, quoted_status_id_str, quoted_status_permalink, quoted_status, retweet_count, favorite_count, favorited, retweeted, possibly_sensitive, lang, retweeted_status, extended_entities, withheld_in_countries]\n",
              "Index: []\n",
              "\n",
              "[0 rows x 32 columns]"
            ],
            "text/html": [
              "<div>\n",
              "<style scoped>\n",
              "    .dataframe tbody tr th:only-of-type {\n",
              "        vertical-align: middle;\n",
              "    }\n",
              "\n",
              "    .dataframe tbody tr th {\n",
              "        vertical-align: top;\n",
              "    }\n",
              "\n",
              "    .dataframe thead th {\n",
              "        text-align: right;\n",
              "    }\n",
              "</style>\n",
              "<table border=\"1\" class=\"dataframe\">\n",
              "  <thead>\n",
              "    <tr style=\"text-align: right;\">\n",
              "      <th></th>\n",
              "      <th>created_at</th>\n",
              "      <th>id</th>\n",
              "      <th>id_str</th>\n",
              "      <th>full_text</th>\n",
              "      <th>truncated</th>\n",
              "      <th>display_text_range</th>\n",
              "      <th>entities</th>\n",
              "      <th>source</th>\n",
              "      <th>in_reply_to_status_id</th>\n",
              "      <th>in_reply_to_status_id_str</th>\n",
              "      <th>...</th>\n",
              "      <th>quoted_status</th>\n",
              "      <th>retweet_count</th>\n",
              "      <th>favorite_count</th>\n",
              "      <th>favorited</th>\n",
              "      <th>retweeted</th>\n",
              "      <th>possibly_sensitive</th>\n",
              "      <th>lang</th>\n",
              "      <th>retweeted_status</th>\n",
              "      <th>extended_entities</th>\n",
              "      <th>withheld_in_countries</th>\n",
              "    </tr>\n",
              "  </thead>\n",
              "  <tbody>\n",
              "  </tbody>\n",
              "</table>\n",
              "<p>0 rows × 32 columns</p>\n",
              "</div>"
            ]
          },
          "metadata": {
            "tags": []
          },
          "execution_count": 13
        }
      ]
    },
    {
      "cell_type": "code",
      "metadata": {
        "id": "k06arbka0PCr",
        "outputId": "35cb0b8b-8428-498e-b6f0-1f889a529937"
      },
      "source": [
        "df['full_text']"
      ],
      "execution_count": null,
      "outputs": [
        {
          "output_type": "execute_result",
          "data": {
            "text/plain": [
              "Index(['created_at', 'id', 'id_str', 'full_text', 'truncated',\n",
              "       'display_text_range', 'entities', 'source', 'in_reply_to_status_id',\n",
              "       'in_reply_to_status_id_str', 'in_reply_to_user_id',\n",
              "       'in_reply_to_user_id_str', 'in_reply_to_screen_name', 'user', 'geo',\n",
              "       'coordinates', 'place', 'contributors', 'is_quote_status',\n",
              "       'quoted_status_id', 'quoted_status_id_str', 'quoted_status_permalink',\n",
              "       'quoted_status', 'retweet_count', 'favorite_count', 'favorited',\n",
              "       'retweeted', 'possibly_sensitive', 'lang', 'retweeted_status',\n",
              "       'extended_entities', 'withheld_in_countries'],\n",
              "      dtype='object')"
            ]
          },
          "metadata": {
            "tags": []
          },
          "execution_count": 14
        }
      ]
    },
    {
      "cell_type": "code",
      "metadata": {
        "id": "U49-LXw40PCv",
        "outputId": "1b2f4630-c4e4-47d6-8cd7-55b160f84eec"
      },
      "source": [
        "df.iloc[8]"
      ],
      "execution_count": null,
      "outputs": [
        {
          "output_type": "execute_result",
          "data": {
            "text/plain": [
              "created_at                                           2020-09-30 00:00:11+00:00\n",
              "id                                                         1311093449135972353\n",
              "id_str                                                     1311093449135972352\n",
              "full_text                    RT @stillgray: Let's get this straight: Hillar...\n",
              "truncated                                                                False\n",
              "display_text_range                                                    [0, 139]\n",
              "entities                     {'hashtags': [], 'symbols': [], 'user_mentions...\n",
              "source                       <a href=\"https://mobile.twitter.com\" rel=\"nofo...\n",
              "in_reply_to_status_id                                                      NaN\n",
              "in_reply_to_status_id_str                                                  NaN\n",
              "in_reply_to_user_id                                                        NaN\n",
              "in_reply_to_user_id_str                                                    NaN\n",
              "in_reply_to_screen_name                                                   None\n",
              "user                         {'id': 805457854555705344, 'id_str': '80545785...\n",
              "geo                                                                       None\n",
              "coordinates                                                               None\n",
              "place                                                                     None\n",
              "contributors                                                               NaN\n",
              "is_quote_status                                                          False\n",
              "quoted_status_id                                                           NaN\n",
              "quoted_status_id_str                                                       NaN\n",
              "quoted_status_permalink                                                    NaN\n",
              "quoted_status                                                              NaN\n",
              "retweet_count                                                             5068\n",
              "favorite_count                                                               0\n",
              "favorited                                                                False\n",
              "retweeted                                                                False\n",
              "possibly_sensitive                                                         NaN\n",
              "lang                                                                        en\n",
              "retweeted_status             {'created_at': 'Tue Sep 29 20:47:11 +0000 2020...\n",
              "extended_entities                                                          NaN\n",
              "withheld_in_countries                                                      NaN\n",
              "Name: 8, dtype: object"
            ]
          },
          "metadata": {
            "tags": []
          },
          "execution_count": 15
        }
      ]
    },
    {
      "cell_type": "code",
      "metadata": {
        "id": "pICI0hgd0PCy",
        "outputId": "ebd4aa09-68e6-480a-fed6-526888582e73"
      },
      "source": [
        "df.dtypes"
      ],
      "execution_count": null,
      "outputs": [
        {
          "output_type": "execute_result",
          "data": {
            "text/plain": [
              "created_at                   datetime64[ns, UTC]\n",
              "id                                         int64\n",
              "id_str                                     int64\n",
              "full_text                                 object\n",
              "truncated                                   bool\n",
              "display_text_range                        object\n",
              "entities                                  object\n",
              "source                                    object\n",
              "in_reply_to_status_id                    float64\n",
              "in_reply_to_status_id_str                float64\n",
              "in_reply_to_user_id                      float64\n",
              "in_reply_to_user_id_str                  float64\n",
              "in_reply_to_screen_name                   object\n",
              "user                                      object\n",
              "geo                                       object\n",
              "coordinates                               object\n",
              "place                                     object\n",
              "contributors                             float64\n",
              "is_quote_status                             bool\n",
              "quoted_status_id                         float64\n",
              "quoted_status_id_str                     float64\n",
              "quoted_status_permalink                   object\n",
              "quoted_status                             object\n",
              "retweet_count                              int64\n",
              "favorite_count                             int64\n",
              "favorited                                   bool\n",
              "retweeted                                   bool\n",
              "possibly_sensitive                       float64\n",
              "lang                                      object\n",
              "retweeted_status                          object\n",
              "extended_entities                         object\n",
              "withheld_in_countries                     object\n",
              "dtype: object"
            ]
          },
          "metadata": {
            "tags": []
          },
          "execution_count": 16
        }
      ]
    },
    {
      "cell_type": "code",
      "metadata": {
        "id": "OgySzTMY0PC0"
      },
      "source": [
        "df[~df['full_text'].str.contains('…')]['full_text'].to_csv('tweets3.csv',index=False)"
      ],
      "execution_count": null,
      "outputs": []
    },
    {
      "cell_type": "code",
      "metadata": {
        "id": "bvtwN5Hg0PC3"
      },
      "source": [
        "consumer_key= 'DHfUueQlK4CLA9qQy46WRGivD'\n",
        "consumer_secret= 'CzdKFk44Xer8Wob20lRmyTHSIi9W9EpFZociuDCPYSkF2OugO6'\n",
        "access_token= '1321537247661842432-dBDzmqioixf4bnuHy7xs8Ca1B5PHYc'\n",
        "access_token_secret= 'ujIXifUYWRmaZhvrp01Gp9c74RK4hQ6qttuHHa84R2ztM'"
      ],
      "execution_count": null,
      "outputs": []
    },
    {
      "cell_type": "code",
      "metadata": {
        "id": "pt1Caj130PC5"
      },
      "source": [
        "import os\n",
        "import tweepy as tw\n",
        "import pandas as pd"
      ],
      "execution_count": null,
      "outputs": []
    },
    {
      "cell_type": "code",
      "metadata": {
        "id": "HV3uoy260PC8"
      },
      "source": [
        "auth = tw.OAuthHandler(consumer_key, consumer_secret)\n",
        "auth.set_access_token(access_token, access_token_secret)\n",
        "api = tw.API(auth, wait_on_rate_limit=True)"
      ],
      "execution_count": null,
      "outputs": []
    },
    {
      "cell_type": "code",
      "metadata": {
        "id": "8b8ojE-S0PDA",
        "outputId": "e97ef372-0c99-4b40-dad8-8e9923ceb5d8"
      },
      "source": [
        "tweet = api.get_status('1311093449135972353',tweet_mode=\"extended\")\n",
        "print(tweet.full_text)"
      ],
      "execution_count": null,
      "outputs": [
        {
          "output_type": "stream",
          "text": [
            "RT @stillgray: Let's get this straight: Hillary manufactured the Russian collusion hoax to distract from her email server scandal and kept…\n"
          ],
          "name": "stdout"
        }
      ]
    },
    {
      "cell_type": "code",
      "metadata": {
        "id": "yjAB1dPh0PDC"
      },
      "source": [
        "def get_full(x):\n",
        "\n",
        "    status = api.get_status(x, tweet_mode=\"extended\")\n",
        "    try:\n",
        "        return status.retweeted_status.full_text\n",
        "    except AttributeError:  # Not a Retweet\n",
        "        return status.full_text"
      ],
      "execution_count": null,
      "outputs": []
    },
    {
      "cell_type": "code",
      "metadata": {
        "id": "9V1mbRRY0PDE",
        "outputId": "c49ca9b1-75f8-4be0-8e1a-729bdeb4589b"
      },
      "source": [
        "df['extended']=df['id'].apply(lambda x: get_full(str(x)))"
      ],
      "execution_count": null,
      "outputs": [
        {
          "output_type": "error",
          "ename": "TweepError",
          "evalue": "[{'code': 63, 'message': 'User has been suspended.'}]",
          "traceback": [
            "\u001b[1;31m---------------------------------------------------------------------------\u001b[0m",
            "\u001b[1;31mTweepError\u001b[0m                                Traceback (most recent call last)",
            "\u001b[1;32m<ipython-input-7-c5bf362428b0>\u001b[0m in \u001b[0;36m<module>\u001b[1;34m\u001b[0m\n\u001b[1;32m----> 1\u001b[1;33m \u001b[0mdf\u001b[0m\u001b[1;33m[\u001b[0m\u001b[1;34m'extended'\u001b[0m\u001b[1;33m]\u001b[0m\u001b[1;33m=\u001b[0m\u001b[0mdf\u001b[0m\u001b[1;33m[\u001b[0m\u001b[1;34m'id'\u001b[0m\u001b[1;33m]\u001b[0m\u001b[1;33m.\u001b[0m\u001b[0mapply\u001b[0m\u001b[1;33m(\u001b[0m\u001b[1;32mlambda\u001b[0m \u001b[0mx\u001b[0m\u001b[1;33m:\u001b[0m \u001b[0mget_full\u001b[0m\u001b[1;33m(\u001b[0m\u001b[0mstr\u001b[0m\u001b[1;33m(\u001b[0m\u001b[0mx\u001b[0m\u001b[1;33m)\u001b[0m\u001b[1;33m)\u001b[0m\u001b[1;33m)\u001b[0m\u001b[1;33m\u001b[0m\u001b[1;33m\u001b[0m\u001b[0m\n\u001b[0m",
            "\u001b[1;32m~\\AppData\\Local\\Programs\\Python\\Python38\\lib\\site-packages\\pandas\\core\\series.py\u001b[0m in \u001b[0;36mapply\u001b[1;34m(self, func, convert_dtype, args, **kwds)\u001b[0m\n\u001b[0;32m   4198\u001b[0m             \u001b[1;32melse\u001b[0m\u001b[1;33m:\u001b[0m\u001b[1;33m\u001b[0m\u001b[1;33m\u001b[0m\u001b[0m\n\u001b[0;32m   4199\u001b[0m                 \u001b[0mvalues\u001b[0m \u001b[1;33m=\u001b[0m \u001b[0mself\u001b[0m\u001b[1;33m.\u001b[0m\u001b[0mastype\u001b[0m\u001b[1;33m(\u001b[0m\u001b[0mobject\u001b[0m\u001b[1;33m)\u001b[0m\u001b[1;33m.\u001b[0m\u001b[0m_values\u001b[0m\u001b[1;33m\u001b[0m\u001b[1;33m\u001b[0m\u001b[0m\n\u001b[1;32m-> 4200\u001b[1;33m                 \u001b[0mmapped\u001b[0m \u001b[1;33m=\u001b[0m \u001b[0mlib\u001b[0m\u001b[1;33m.\u001b[0m\u001b[0mmap_infer\u001b[0m\u001b[1;33m(\u001b[0m\u001b[0mvalues\u001b[0m\u001b[1;33m,\u001b[0m \u001b[0mf\u001b[0m\u001b[1;33m,\u001b[0m \u001b[0mconvert\u001b[0m\u001b[1;33m=\u001b[0m\u001b[0mconvert_dtype\u001b[0m\u001b[1;33m)\u001b[0m\u001b[1;33m\u001b[0m\u001b[1;33m\u001b[0m\u001b[0m\n\u001b[0m\u001b[0;32m   4201\u001b[0m \u001b[1;33m\u001b[0m\u001b[0m\n\u001b[0;32m   4202\u001b[0m         \u001b[1;32mif\u001b[0m \u001b[0mlen\u001b[0m\u001b[1;33m(\u001b[0m\u001b[0mmapped\u001b[0m\u001b[1;33m)\u001b[0m \u001b[1;32mand\u001b[0m \u001b[0misinstance\u001b[0m\u001b[1;33m(\u001b[0m\u001b[0mmapped\u001b[0m\u001b[1;33m[\u001b[0m\u001b[1;36m0\u001b[0m\u001b[1;33m]\u001b[0m\u001b[1;33m,\u001b[0m \u001b[0mSeries\u001b[0m\u001b[1;33m)\u001b[0m\u001b[1;33m:\u001b[0m\u001b[1;33m\u001b[0m\u001b[1;33m\u001b[0m\u001b[0m\n",
            "\u001b[1;32mpandas\\_libs\\lib.pyx\u001b[0m in \u001b[0;36mpandas._libs.lib.map_infer\u001b[1;34m()\u001b[0m\n",
            "\u001b[1;32m<ipython-input-7-c5bf362428b0>\u001b[0m in \u001b[0;36m<lambda>\u001b[1;34m(x)\u001b[0m\n\u001b[1;32m----> 1\u001b[1;33m \u001b[0mdf\u001b[0m\u001b[1;33m[\u001b[0m\u001b[1;34m'extended'\u001b[0m\u001b[1;33m]\u001b[0m\u001b[1;33m=\u001b[0m\u001b[0mdf\u001b[0m\u001b[1;33m[\u001b[0m\u001b[1;34m'id'\u001b[0m\u001b[1;33m]\u001b[0m\u001b[1;33m.\u001b[0m\u001b[0mapply\u001b[0m\u001b[1;33m(\u001b[0m\u001b[1;32mlambda\u001b[0m \u001b[0mx\u001b[0m\u001b[1;33m:\u001b[0m \u001b[0mget_full\u001b[0m\u001b[1;33m(\u001b[0m\u001b[0mstr\u001b[0m\u001b[1;33m(\u001b[0m\u001b[0mx\u001b[0m\u001b[1;33m)\u001b[0m\u001b[1;33m)\u001b[0m\u001b[1;33m)\u001b[0m\u001b[1;33m\u001b[0m\u001b[1;33m\u001b[0m\u001b[0m\n\u001b[0m",
            "\u001b[1;32m<ipython-input-6-1962059762fe>\u001b[0m in \u001b[0;36mget_full\u001b[1;34m(x)\u001b[0m\n\u001b[0;32m      1\u001b[0m \u001b[1;32mdef\u001b[0m \u001b[0mget_full\u001b[0m\u001b[1;33m(\u001b[0m\u001b[0mx\u001b[0m\u001b[1;33m)\u001b[0m\u001b[1;33m:\u001b[0m\u001b[1;33m\u001b[0m\u001b[1;33m\u001b[0m\u001b[0m\n\u001b[0;32m      2\u001b[0m \u001b[1;33m\u001b[0m\u001b[0m\n\u001b[1;32m----> 3\u001b[1;33m     \u001b[0mstatus\u001b[0m \u001b[1;33m=\u001b[0m \u001b[0mapi\u001b[0m\u001b[1;33m.\u001b[0m\u001b[0mget_status\u001b[0m\u001b[1;33m(\u001b[0m\u001b[0mx\u001b[0m\u001b[1;33m,\u001b[0m \u001b[0mtweet_mode\u001b[0m\u001b[1;33m=\u001b[0m\u001b[1;34m\"extended\"\u001b[0m\u001b[1;33m)\u001b[0m\u001b[1;33m\u001b[0m\u001b[1;33m\u001b[0m\u001b[0m\n\u001b[0m\u001b[0;32m      4\u001b[0m     \u001b[1;32mtry\u001b[0m\u001b[1;33m:\u001b[0m\u001b[1;33m\u001b[0m\u001b[1;33m\u001b[0m\u001b[0m\n\u001b[0;32m      5\u001b[0m         \u001b[1;32mreturn\u001b[0m \u001b[0mstatus\u001b[0m\u001b[1;33m.\u001b[0m\u001b[0mretweeted_status\u001b[0m\u001b[1;33m.\u001b[0m\u001b[0mfull_text\u001b[0m\u001b[1;33m\u001b[0m\u001b[1;33m\u001b[0m\u001b[0m\n",
            "\u001b[1;32m~\\AppData\\Local\\Programs\\Python\\Python38\\lib\\site-packages\\tweepy\\binder.py\u001b[0m in \u001b[0;36m_call\u001b[1;34m(*args, **kwargs)\u001b[0m\n\u001b[0;32m    250\u001b[0m                 \u001b[1;32mreturn\u001b[0m \u001b[0mmethod\u001b[0m\u001b[1;33m\u001b[0m\u001b[1;33m\u001b[0m\u001b[0m\n\u001b[0;32m    251\u001b[0m             \u001b[1;32melse\u001b[0m\u001b[1;33m:\u001b[0m\u001b[1;33m\u001b[0m\u001b[1;33m\u001b[0m\u001b[0m\n\u001b[1;32m--> 252\u001b[1;33m                 \u001b[1;32mreturn\u001b[0m \u001b[0mmethod\u001b[0m\u001b[1;33m.\u001b[0m\u001b[0mexecute\u001b[0m\u001b[1;33m(\u001b[0m\u001b[1;33m)\u001b[0m\u001b[1;33m\u001b[0m\u001b[1;33m\u001b[0m\u001b[0m\n\u001b[0m\u001b[0;32m    253\u001b[0m         \u001b[1;32mfinally\u001b[0m\u001b[1;33m:\u001b[0m\u001b[1;33m\u001b[0m\u001b[1;33m\u001b[0m\u001b[0m\n\u001b[0;32m    254\u001b[0m             \u001b[0mmethod\u001b[0m\u001b[1;33m.\u001b[0m\u001b[0msession\u001b[0m\u001b[1;33m.\u001b[0m\u001b[0mclose\u001b[0m\u001b[1;33m(\u001b[0m\u001b[1;33m)\u001b[0m\u001b[1;33m\u001b[0m\u001b[1;33m\u001b[0m\u001b[0m\n",
            "\u001b[1;32m~\\AppData\\Local\\Programs\\Python\\Python38\\lib\\site-packages\\tweepy\\binder.py\u001b[0m in \u001b[0;36mexecute\u001b[1;34m(self)\u001b[0m\n\u001b[0;32m    232\u001b[0m                     \u001b[1;32mraise\u001b[0m \u001b[0mRateLimitError\u001b[0m\u001b[1;33m(\u001b[0m\u001b[0merror_msg\u001b[0m\u001b[1;33m,\u001b[0m \u001b[0mresp\u001b[0m\u001b[1;33m)\u001b[0m\u001b[1;33m\u001b[0m\u001b[1;33m\u001b[0m\u001b[0m\n\u001b[0;32m    233\u001b[0m                 \u001b[1;32melse\u001b[0m\u001b[1;33m:\u001b[0m\u001b[1;33m\u001b[0m\u001b[1;33m\u001b[0m\u001b[0m\n\u001b[1;32m--> 234\u001b[1;33m                     \u001b[1;32mraise\u001b[0m \u001b[0mTweepError\u001b[0m\u001b[1;33m(\u001b[0m\u001b[0merror_msg\u001b[0m\u001b[1;33m,\u001b[0m \u001b[0mresp\u001b[0m\u001b[1;33m,\u001b[0m \u001b[0mapi_code\u001b[0m\u001b[1;33m=\u001b[0m\u001b[0mapi_error_code\u001b[0m\u001b[1;33m)\u001b[0m\u001b[1;33m\u001b[0m\u001b[1;33m\u001b[0m\u001b[0m\n\u001b[0m\u001b[0;32m    235\u001b[0m \u001b[1;33m\u001b[0m\u001b[0m\n\u001b[0;32m    236\u001b[0m             \u001b[1;31m# Parse the response payload\u001b[0m\u001b[1;33m\u001b[0m\u001b[1;33m\u001b[0m\u001b[1;33m\u001b[0m\u001b[0m\n",
            "\u001b[1;31mTweepError\u001b[0m: [{'code': 63, 'message': 'User has been suspended.'}]"
          ]
        }
      ]
    },
    {
      "cell_type": "code",
      "metadata": {
        "id": "OL9LJOmy0PDH",
        "outputId": "c799a1c9-ce8e-4251-d0ca-d11c4a94511a"
      },
      "source": [
        "df.iloc[8]['retweeted_status']['full_text']"
      ],
      "execution_count": null,
      "outputs": [
        {
          "output_type": "execute_result",
          "data": {
            "text/plain": [
              "\"Let's get this straight: Hillary manufactured the Russian collusion hoax to distract from her email server scandal and kept up the ruse for three plus years, essentially preventing Trump from fully performing his duties as President while he dealt with the nonsense she made up.\""
            ]
          },
          "metadata": {
            "tags": []
          },
          "execution_count": 13
        }
      ]
    },
    {
      "cell_type": "code",
      "metadata": {
        "id": "msVxOIHa0PDJ",
        "outputId": "d77b2bca-277f-42aa-aaae-666641a4cba9"
      },
      "source": [
        "df.iloc[0]"
      ],
      "execution_count": null,
      "outputs": [
        {
          "output_type": "execute_result",
          "data": {
            "text/plain": [
              "created_at                                           2020-09-29 23:59:56+00:00\n",
              "id                                                         1311093385688735744\n",
              "id_str                                                     1311093385688735744\n",
              "full_text                    Biden a professional debater??  Hardly!! More ...\n",
              "truncated                                                                False\n",
              "display_text_range                                                     [0, 71]\n",
              "entities                     {'hashtags': [], 'symbols': [], 'user_mentions...\n",
              "source                       <a href=\"https://mobile.twitter.com\" rel=\"nofo...\n",
              "in_reply_to_status_id                                                      NaN\n",
              "in_reply_to_status_id_str                                                  NaN\n",
              "in_reply_to_user_id                                                        NaN\n",
              "in_reply_to_user_id_str                                                    NaN\n",
              "in_reply_to_screen_name                                                   None\n",
              "user                         {'id': 117904481, 'id_str': '117904481', 'name...\n",
              "geo                                                                       None\n",
              "coordinates                                                               None\n",
              "place                                                                     None\n",
              "contributors                                                               NaN\n",
              "is_quote_status                                                           True\n",
              "quoted_status_id                                                   1.31108e+18\n",
              "quoted_status_id_str                                               1.31108e+18\n",
              "quoted_status_permalink      {'url': 'https://t.co/cQuxzexXYt', 'expanded':...\n",
              "quoted_status                {'created_at': 'Tue Sep 29 23:12:13 +0000 2020...\n",
              "retweet_count                                                                0\n",
              "favorite_count                                                               0\n",
              "favorited                                                                False\n",
              "retweeted                                                                False\n",
              "possibly_sensitive                                                           0\n",
              "lang                                                                        en\n",
              "retweeted_status                                                           NaN\n",
              "extended_entities                                                          NaN\n",
              "withheld_in_countries                                                      NaN\n",
              "Name: 0, dtype: object"
            ]
          },
          "metadata": {
            "tags": []
          },
          "execution_count": 16
        }
      ]
    },
    {
      "cell_type": "code",
      "metadata": {
        "id": "CdnlgJgV0PDM"
      },
      "source": [
        ""
      ],
      "execution_count": null,
      "outputs": []
    }
  ]
}