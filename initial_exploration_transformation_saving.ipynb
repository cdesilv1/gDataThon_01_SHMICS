{
 "cells": [
  {
   "cell_type": "code",
   "execution_count": null,
   "metadata": {},
   "outputs": [],
   "source": [
    "import numpy as np\n",
    "import datetime as dt\n",
    "import json\n",
    "import time\n",
    "import pandas as pd\n",
    "import csv\n",
    "import pprint\n",
    "import seaborn as sns\n",
    "import matplotlib.pyplot as plt\n",
    "# pd.options.display.max_rows = 9000\n",
    "import warnings\n",
    "warnings.filterwarnings('ignore') \n",
    "# %load_ext autoreload\n",
    "# %autoreload 2"
   ]
  },
  {
   "cell_type": "code",
   "execution_count": null,
   "metadata": {},
   "outputs": [],
   "source": [
    "# initializing content list\n",
    "content = []"
   ]
  },
  {
   "cell_type": "code",
   "execution_count": null,
   "metadata": {},
   "outputs": [],
   "source": [
    "# assumes data has been unzipped reading from jsonl format\n",
    "with open('concatenated_abridged.jsonl', 'r') as f:\n",
    "    allLines = f.readlines()\n",
    "    for line in allLines:\n",
    "        content.append(line)"
   ]
  },
  {
   "cell_type": "code",
   "execution_count": null,
   "metadata": {},
   "outputs": [],
   "source": [
    "# converting at index level from string to json object\n",
    "content = [json.loads(c) for c in content]"
   ]
  },
  {
   "cell_type": "code",
   "execution_count": null,
   "metadata": {},
   "outputs": [],
   "source": [
    "# for i in range(100):\n",
    "#     print(i, content[i]['full_text'])"
   ]
  },
  {
   "cell_type": "code",
   "execution_count": null,
   "metadata": {},
   "outputs": [],
   "source": [
    "# finding full_text items, saving to full_text, and noting idxes that need to be manually parsed\n",
    "full_text = []\n",
    "manual_parsing_idxes = []\n",
    "\n",
    "for i, item in enumerate(content):\n",
    "    try:\n",
    "        if item['full_text'][:2] == 'RT':\n",
    "            full_text.append(item['retweeted_status']['full_text'].split('https')[0])\n",
    "        else:\n",
    "            full_text.append(item['full_text'].split('https')[0])\n",
    "    except:\n",
    "        manual_parsing_idxes.append(i)\n"
   ]
  },
  {
   "cell_type": "code",
   "execution_count": null,
   "metadata": {},
   "outputs": [],
   "source": [
    "# list idxes that are retweeted items that do not have the 'retweeted_status' key, need to be manually parsed for full content\n",
    "manual_parsing_idxes #not used"
   ]
  },
  {
   "cell_type": "code",
   "execution_count": null,
   "metadata": {},
   "outputs": [],
   "source": [
    "# reshaping, not necessary\n",
    "full_text = np.array(full_text).reshape(-1,1)"
   ]
  },
  {
   "cell_type": "code",
   "execution_count": null,
   "metadata": {},
   "outputs": [],
   "source": [
    "# stripping ends\n",
    "for i in range(full_text.shape[0]):\n",
    "    full_text[i][0] = full_text[i][0].strip()"
   ]
  },
  {
   "cell_type": "code",
   "execution_count": null,
   "metadata": {},
   "outputs": [],
   "source": [
    "# converting to pd.DataFrame\n",
    "full_text_data_df = pd.DataFrame(data=full_text, columns=['tweets'])"
   ]
  },
  {
   "cell_type": "code",
   "execution_count": null,
   "metadata": {},
   "outputs": [],
   "source": [
    "# calling info for sanity check\n",
    "full_text_data_df.info()"
   ]
  },
  {
   "cell_type": "code",
   "execution_count": null,
   "metadata": {},
   "outputs": [],
   "source": [
    "# removing empty tweets from pd.DataFrame\n",
    "full_text_data_df = full_text_data_df[~(full_text_data_df['tweets']=='')]"
   ]
  },
  {
   "cell_type": "code",
   "execution_count": null,
   "metadata": {},
   "outputs": [],
   "source": [
    "# save to csv, named 'tweets.csv'\n",
    "full_text_data_df['tweets'].to_csv('tweets.csv', encoding='utf8', index=False)"
   ]
  },
  {
   "cell_type": "code",
   "execution_count": null,
   "metadata": {},
   "outputs": [],
   "source": [
    "# mimicking gpt-2 load_csv for sanity check, reading to jupyter \n",
    "path = 'tweets.csv'\n",
    "with open(path, 'r', encoding='utf8', errors='ignore') as fp:\n",
    "    fp.readline()   # skip header\n",
    "    reader = csv.reader(fp)\n",
    "    for row in reader:\n",
    "        print(row[0])"
   ]
  },
  {
   "cell_type": "code",
   "execution_count": null,
   "metadata": {},
   "outputs": [],
   "source": []
  }
 ],
 "metadata": {
  "kernelspec": {
   "display_name": "Python 3",
   "language": "python",
   "name": "python3"
  },
  "language_info": {
   "codemirror_mode": {
    "name": "ipython",
    "version": 3
   },
   "file_extension": ".py",
   "mimetype": "text/x-python",
   "name": "python",
   "nbconvert_exporter": "python",
   "pygments_lexer": "ipython3",
   "version": "3.6.4"
  }
 },
 "nbformat": 4,
 "nbformat_minor": 2
}
